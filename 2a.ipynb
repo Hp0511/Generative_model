{
 "cells": [
  {
   "cell_type": "code",
   "execution_count": 5,
   "id": "aa61dccb",
   "metadata": {},
   "outputs": [],
   "source": [
    "import random"
   ]
  },
  {
   "cell_type": "code",
   "execution_count": 6,
   "id": "e089c35b",
   "metadata": {},
   "outputs": [],
   "source": [
    "sum = 0\n",
    "N = 100000"
   ]
  },
  {
   "cell_type": "code",
   "execution_count": 7,
   "id": "817e30a5",
   "metadata": {},
   "outputs": [
    {
     "name": "stdout",
     "output_type": "stream",
     "text": [
      "0.8885634518790697\n"
     ]
    }
   ],
   "source": [
    "def f(x):\n",
    "    f = 1/(x**5 + 1)\n",
    "    return f\n",
    "for i in range(1,N + 1):\n",
    "    a = random.uniform(0,1)\n",
    "    sum += f(a)\n",
    "\n",
    "result = sum/N\n",
    "print(result) "
   ]
  }
 ],
 "metadata": {
  "kernelspec": {
   "display_name": "Python 3",
   "language": "python",
   "name": "python3"
  },
  "language_info": {
   "codemirror_mode": {
    "name": "ipython",
    "version": 3
   },
   "file_extension": ".py",
   "mimetype": "text/x-python",
   "name": "python",
   "nbconvert_exporter": "python",
   "pygments_lexer": "ipython3",
   "version": "3.11.2"
  }
 },
 "nbformat": 4,
 "nbformat_minor": 5
}
